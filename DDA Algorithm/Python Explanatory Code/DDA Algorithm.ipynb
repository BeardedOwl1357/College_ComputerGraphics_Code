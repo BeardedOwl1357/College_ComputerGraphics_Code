{
 "cells": [
  {
   "cell_type": "markdown",
   "id": "025e9427",
   "metadata": {},
   "source": [
    "# DDA Algorithm \n",
    "1. Used for computer graphics \n",
    "2. Helps to make a line between two pixels"
   ]
  },
  {
   "cell_type": "markdown",
   "id": "ebdf7da5",
   "metadata": {},
   "source": [
    "## Definining Input Coordinates"
   ]
  },
  {
   "cell_type": "code",
   "execution_count": 8,
   "id": "3aacccaa",
   "metadata": {},
   "outputs": [
    {
     "name": "stdout",
     "output_type": "stream",
     "text": [
      "Coordinates are (10, 20) AND (15, 22)\n"
     ]
    }
   ],
   "source": [
    "x1,y1 = 10,20\n",
    "x2,y2 = 15,22\n",
    "print(f\"Coordinates are {x1,y1} AND {x2,y2}\")"
   ]
  },
  {
   "cell_type": "markdown",
   "id": "3c9699fd",
   "metadata": {},
   "source": [
    "## Finding Constants "
   ]
  },
  {
   "cell_type": "code",
   "execution_count": 5,
   "id": "5d614d55",
   "metadata": {},
   "outputs": [
    {
     "name": "stdout",
     "output_type": "stream",
     "text": [
      "DX = 5 DY = 2 Steps = 5\n"
     ]
    }
   ],
   "source": [
    "dx,dy = (x2-x1),(y2-y1)\n",
    "steps = abs(dx) if abs(dx) > abs(dy) else abs(dy)\n",
    "print(f\"DX = {dx} DY = {dy} Steps = {steps}\")"
   ]
  },
  {
   "cell_type": "markdown",
   "id": "cbfed07a",
   "metadata": {},
   "source": [
    "## Finding Increments"
   ]
  },
  {
   "cell_type": "code",
   "execution_count": 3,
   "id": "f1e46cc0",
   "metadata": {},
   "outputs": [
    {
     "name": "stdout",
     "output_type": "stream",
     "text": [
      "X Increment = 1.0 Y Increment = 0.4\n"
     ]
    }
   ],
   "source": [
    "x_inc,y_inc = (dx/steps),(dy/steps)\n",
    "print(f\"X Increment = {x_inc} Y Increment = {y_inc}\")"
   ]
  },
  {
   "cell_type": "markdown",
   "id": "71a527b7",
   "metadata": {},
   "source": [
    "## Finding Pixels"
   ]
  },
  {
   "cell_type": "code",
   "execution_count": 9,
   "id": "978dbe0d",
   "metadata": {},
   "outputs": [
    {
     "name": "stdout",
     "output_type": "stream",
     "text": [
      "Next Pixel is (11.0, 20.4)\n",
      "Next Pixel is (12.0, 20.8)\n",
      "Next Pixel is (13.0, 21.2)\n",
      "Next Pixel is (14.0, 21.6)\n",
      "Next Pixel is (15.0, 22.0)\n"
     ]
    }
   ],
   "source": [
    "for step in range(steps):\n",
    "    x1 = round(x1 + x_inc,2)\n",
    "    y1 = round(y1 + y_inc,2)\n",
    "    print(f\"Next Pixel is {x1,y1}\")"
   ]
  },
  {
   "cell_type": "code",
   "execution_count": null,
   "id": "e3d108b9",
   "metadata": {},
   "outputs": [],
   "source": []
  }
 ],
 "metadata": {
  "kernelspec": {
   "display_name": "Python 3 (ipykernel)",
   "language": "python",
   "name": "python3"
  },
  "language_info": {
   "codemirror_mode": {
    "name": "ipython",
    "version": 3
   },
   "file_extension": ".py",
   "mimetype": "text/x-python",
   "name": "python",
   "nbconvert_exporter": "python",
   "pygments_lexer": "ipython3",
   "version": "3.9.7"
  }
 },
 "nbformat": 4,
 "nbformat_minor": 5
}
